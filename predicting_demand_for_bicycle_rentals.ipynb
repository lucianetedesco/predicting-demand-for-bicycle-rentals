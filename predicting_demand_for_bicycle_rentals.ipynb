{
  "nbformat": 4,
  "nbformat_minor": 0,
  "metadata": {
    "colab": {
      "name": "predicting-demand-for-bicycle-rentals.ipynb",
      "provenance": [],
      "authorship_tag": "ABX9TyOArH1l2J41aUxcO0wax14D",
      "include_colab_link": true
    },
    "kernelspec": {
      "name": "python3",
      "display_name": "Python 3"
    }
  },
  "cells": [
    {
      "cell_type": "markdown",
      "metadata": {
        "id": "view-in-github",
        "colab_type": "text"
      },
      "source": [
        "<a href=\"https://colab.research.google.com/github/lucianetedesco/predicting-demand-for-bicycle-rentals/blob/main/predicting_demand_for_bicycle_rentals.ipynb\" target=\"_parent\"><img src=\"https://colab.research.google.com/assets/colab-badge.svg\" alt=\"Open In Colab\"/></a>"
      ]
    },
    {
      "cell_type": "markdown",
      "metadata": {
        "id": "beK46Tse26RE"
      },
      "source": [
        "Referência: https://minerandodados.com.br/prevendo-a-demanda-de-alugueis-de-bicicletas-com-machine-learning/"
      ]
    },
    {
      "cell_type": "markdown",
      "metadata": {
        "id": "ik578lfZWZHl"
      },
      "source": [
        "# Prevendo a Demanda de Alugueis de Bicicletas\n",
        "\n",
        "\n",
        "---\n",
        "\n",
        "\n",
        "Os sistemas de compartilhamento de bicicletas são a nova geração de aluguel de bicicletas tradicionais, onde todo o processo de associação, aluguel e devolução se tornou automático.\n",
        "\n",
        "Através desses sistemas, o usuário pode alugar facilmente uma bicicleta de uma posição específica e retornar para outra posição.\n",
        "\n",
        "Atualmente, existem cerca de 500 programas de compartilhamento de bicicletas em todo o mundo, compostos por mais de 500 mil bicicletas.\n",
        "\n",
        "Hoje, existe um grande interesse nesses sistemas devido ao seu importante papel nos problemas de tráfego, ambientais e de saúde.\n",
        "\n",
        "Ao contrário de outros serviços de transporte, como ônibus ou metrô, a duração da viagem, a partida e a posição de chegada são explicitamente registradas nesses sistemas.\n",
        "\n",
        "O objetivo é testar diferentes tipos de algoritmos de regressão para prever a quantidade de bicicletas alugadas."
      ]
    },
    {
      "cell_type": "markdown",
      "metadata": {
        "id": "h6UpTSUnc53m"
      },
      "source": [
        "## Importando as bibliotecas:"
      ]
    },
    {
      "cell_type": "code",
      "metadata": {
        "id": "J4M2nAftWUoH"
      },
      "source": [
        "import pandas as pd\n",
        "import numpy as np\n",
        "import matplotlib.pyplot as plt\n",
        "import seaborn as sns\n",
        "from sklearn.model_selection import train_test_split\n",
        "from sklearn.linear_model import LinearRegression\n",
        "from sklearn.metrics import mean_squared_error\n",
        "from sklearn.tree import DecisionTreeRegressor\n",
        "from sklearn.ensemble import RandomForestRegressor\n",
        "from sklearn.model_selection import GridSearchCV"
      ],
      "execution_count": null,
      "outputs": []
    },
    {
      "cell_type": "markdown",
      "metadata": {
        "id": "gIq-VsW5cv2J"
      },
      "source": [
        "## Carregando e visualizando a base de dados:"
      ]
    },
    {
      "cell_type": "code",
      "metadata": {
        "id": "jxLSLGOqcsZN",
        "outputId": "7909c141-ea73-4f5a-e4fa-cd7adf813bdd",
        "colab": {
          "base_uri": "https://localhost:8080/",
          "height": 198
        }
      },
      "source": [
        "bike_rentals = pd.read_csv(\"bike_rental_hour.csv\")\n",
        "bike_rentals.head()"
      ],
      "execution_count": null,
      "outputs": [
        {
          "output_type": "execute_result",
          "data": {
            "text/html": [
              "<div>\n",
              "<style scoped>\n",
              "    .dataframe tbody tr th:only-of-type {\n",
              "        vertical-align: middle;\n",
              "    }\n",
              "\n",
              "    .dataframe tbody tr th {\n",
              "        vertical-align: top;\n",
              "    }\n",
              "\n",
              "    .dataframe thead th {\n",
              "        text-align: right;\n",
              "    }\n",
              "</style>\n",
              "<table border=\"1\" class=\"dataframe\">\n",
              "  <thead>\n",
              "    <tr style=\"text-align: right;\">\n",
              "      <th></th>\n",
              "      <th>instant</th>\n",
              "      <th>dteday</th>\n",
              "      <th>season</th>\n",
              "      <th>yr</th>\n",
              "      <th>mnth</th>\n",
              "      <th>hr</th>\n",
              "      <th>holiday</th>\n",
              "      <th>weekday</th>\n",
              "      <th>workingday</th>\n",
              "      <th>weathersit</th>\n",
              "      <th>temp</th>\n",
              "      <th>atemp</th>\n",
              "      <th>hum</th>\n",
              "      <th>windspeed</th>\n",
              "      <th>casual</th>\n",
              "      <th>registered</th>\n",
              "      <th>cnt</th>\n",
              "    </tr>\n",
              "  </thead>\n",
              "  <tbody>\n",
              "    <tr>\n",
              "      <th>0</th>\n",
              "      <td>1</td>\n",
              "      <td>2011-01-01</td>\n",
              "      <td>1</td>\n",
              "      <td>0</td>\n",
              "      <td>1</td>\n",
              "      <td>0</td>\n",
              "      <td>0</td>\n",
              "      <td>6</td>\n",
              "      <td>0</td>\n",
              "      <td>1</td>\n",
              "      <td>0.24</td>\n",
              "      <td>0.2879</td>\n",
              "      <td>0.81</td>\n",
              "      <td>0.0</td>\n",
              "      <td>3</td>\n",
              "      <td>13</td>\n",
              "      <td>16</td>\n",
              "    </tr>\n",
              "    <tr>\n",
              "      <th>1</th>\n",
              "      <td>2</td>\n",
              "      <td>2011-01-01</td>\n",
              "      <td>1</td>\n",
              "      <td>0</td>\n",
              "      <td>1</td>\n",
              "      <td>1</td>\n",
              "      <td>0</td>\n",
              "      <td>6</td>\n",
              "      <td>0</td>\n",
              "      <td>1</td>\n",
              "      <td>0.22</td>\n",
              "      <td>0.2727</td>\n",
              "      <td>0.80</td>\n",
              "      <td>0.0</td>\n",
              "      <td>8</td>\n",
              "      <td>32</td>\n",
              "      <td>40</td>\n",
              "    </tr>\n",
              "    <tr>\n",
              "      <th>2</th>\n",
              "      <td>3</td>\n",
              "      <td>2011-01-01</td>\n",
              "      <td>1</td>\n",
              "      <td>0</td>\n",
              "      <td>1</td>\n",
              "      <td>2</td>\n",
              "      <td>0</td>\n",
              "      <td>6</td>\n",
              "      <td>0</td>\n",
              "      <td>1</td>\n",
              "      <td>0.22</td>\n",
              "      <td>0.2727</td>\n",
              "      <td>0.80</td>\n",
              "      <td>0.0</td>\n",
              "      <td>5</td>\n",
              "      <td>27</td>\n",
              "      <td>32</td>\n",
              "    </tr>\n",
              "    <tr>\n",
              "      <th>3</th>\n",
              "      <td>4</td>\n",
              "      <td>2011-01-01</td>\n",
              "      <td>1</td>\n",
              "      <td>0</td>\n",
              "      <td>1</td>\n",
              "      <td>3</td>\n",
              "      <td>0</td>\n",
              "      <td>6</td>\n",
              "      <td>0</td>\n",
              "      <td>1</td>\n",
              "      <td>0.24</td>\n",
              "      <td>0.2879</td>\n",
              "      <td>0.75</td>\n",
              "      <td>0.0</td>\n",
              "      <td>3</td>\n",
              "      <td>10</td>\n",
              "      <td>13</td>\n",
              "    </tr>\n",
              "    <tr>\n",
              "      <th>4</th>\n",
              "      <td>5</td>\n",
              "      <td>2011-01-01</td>\n",
              "      <td>1</td>\n",
              "      <td>0</td>\n",
              "      <td>1</td>\n",
              "      <td>4</td>\n",
              "      <td>0</td>\n",
              "      <td>6</td>\n",
              "      <td>0</td>\n",
              "      <td>1</td>\n",
              "      <td>0.24</td>\n",
              "      <td>0.2879</td>\n",
              "      <td>0.75</td>\n",
              "      <td>0.0</td>\n",
              "      <td>0</td>\n",
              "      <td>1</td>\n",
              "      <td>1</td>\n",
              "    </tr>\n",
              "  </tbody>\n",
              "</table>\n",
              "</div>"
            ],
            "text/plain": [
              "   instant      dteday  season  yr  ...  windspeed  casual  registered  cnt\n",
              "0        1  2011-01-01       1   0  ...        0.0       3          13   16\n",
              "1        2  2011-01-01       1   0  ...        0.0       8          32   40\n",
              "2        3  2011-01-01       1   0  ...        0.0       5          27   32\n",
              "3        4  2011-01-01       1   0  ...        0.0       3          10   13\n",
              "4        5  2011-01-01       1   0  ...        0.0       0           1    1\n",
              "\n",
              "[5 rows x 17 columns]"
            ]
          },
          "metadata": {
            "tags": []
          },
          "execution_count": 53
        }
      ]
    },
    {
      "cell_type": "markdown",
      "metadata": {
        "id": "cyY0WVrRdHUZ"
      },
      "source": [
        "## Entendendo a base de dados:\n",
        "* **instant**: índice de registro\n",
        "* **dteday**: data do aluguel (ano-mês-dia)\n",
        "* **season**: estação (1: inverno, 2: primavera, 3: verão, 4: outono)\n",
        "* **yr**: ano (0: 2011, 1: 2012)\n",
        "* **mnth**: mês (1 a 12)\n",
        "* **hr**: hora (0 a 23)\n",
        "* **holiday**: o dia é feriado ou não (extraído de [holiday schedule](http://dchr.dc.gov/page/holiday-schedule))\n",
        "* **weekday**: dia da semana\n",
        "* **workingday**: se o dia não for final de semana nem feriado, então será 1, caso contrário será 0 – equivalente ao dia útil.\n",
        "* **weathersit**: tempo\n",
        "  * 1: limpo, poucas nuvens, parcialmente nublado\n",
        "  * 2: névoa + nublado, névoa + nuvens partidas, névoa + poucas nuvens, névoa\n",
        "  * 3: neve fraca, chuva fraca + trovoada + nuvens dispersas, chuva fraca + nuvens dispersas\n",
        "  * 4: chuva forte + paletes de gelo + trovoada + névoa, neve + nevoeiro\n",
        "* **temp**: temperatura normalizada em graus Celsius. Os valores são divididos em 41 (máximo)\n",
        "* **atemp**: sensação de temperatura normalizada em graus Celsius. Os valores são divididos em 50 (máximo)\n",
        "* **hum**: umidade normalizada. Os valores são divididos em 100 (máximo)\n",
        "* **windspeed**: velocidade do vento normalizada. Os valores são divididos em 67 (máximo)\n",
        "* **casual**: número de usuários casuais\n",
        "* **registered**: número de usuários registrados\n",
        "* **cnt**: contagem do total de bicicletas alugadas, incluindo bicicletas casuais e registradas ***(variável target)***"
      ]
    },
    {
      "cell_type": "markdown",
      "metadata": {
        "id": "ik8hOwDOho0T"
      },
      "source": [
        "## Informações estatísticas da nossa base:"
      ]
    },
    {
      "cell_type": "code",
      "metadata": {
        "id": "WR_cqHa0fjko",
        "outputId": "563783f4-db71-447e-a016-8a1be53dcd32",
        "colab": {
          "base_uri": "https://localhost:8080/",
          "height": 308
        }
      },
      "source": [
        "bike_rentals.describe()"
      ],
      "execution_count": null,
      "outputs": [
        {
          "output_type": "execute_result",
          "data": {
            "text/html": [
              "<div>\n",
              "<style scoped>\n",
              "    .dataframe tbody tr th:only-of-type {\n",
              "        vertical-align: middle;\n",
              "    }\n",
              "\n",
              "    .dataframe tbody tr th {\n",
              "        vertical-align: top;\n",
              "    }\n",
              "\n",
              "    .dataframe thead th {\n",
              "        text-align: right;\n",
              "    }\n",
              "</style>\n",
              "<table border=\"1\" class=\"dataframe\">\n",
              "  <thead>\n",
              "    <tr style=\"text-align: right;\">\n",
              "      <th></th>\n",
              "      <th>instant</th>\n",
              "      <th>season</th>\n",
              "      <th>yr</th>\n",
              "      <th>mnth</th>\n",
              "      <th>hr</th>\n",
              "      <th>holiday</th>\n",
              "      <th>weekday</th>\n",
              "      <th>workingday</th>\n",
              "      <th>weathersit</th>\n",
              "      <th>temp</th>\n",
              "      <th>atemp</th>\n",
              "      <th>hum</th>\n",
              "      <th>windspeed</th>\n",
              "      <th>casual</th>\n",
              "      <th>registered</th>\n",
              "      <th>cnt</th>\n",
              "    </tr>\n",
              "  </thead>\n",
              "  <tbody>\n",
              "    <tr>\n",
              "      <th>count</th>\n",
              "      <td>17379.0000</td>\n",
              "      <td>17379.000000</td>\n",
              "      <td>17379.000000</td>\n",
              "      <td>17379.000000</td>\n",
              "      <td>17379.000000</td>\n",
              "      <td>17379.000000</td>\n",
              "      <td>17379.000000</td>\n",
              "      <td>17379.000000</td>\n",
              "      <td>17379.000000</td>\n",
              "      <td>17379.000000</td>\n",
              "      <td>17379.000000</td>\n",
              "      <td>17379.000000</td>\n",
              "      <td>17379.000000</td>\n",
              "      <td>17379.000000</td>\n",
              "      <td>17379.000000</td>\n",
              "      <td>17379.000000</td>\n",
              "    </tr>\n",
              "    <tr>\n",
              "      <th>mean</th>\n",
              "      <td>8690.0000</td>\n",
              "      <td>2.501640</td>\n",
              "      <td>0.502561</td>\n",
              "      <td>6.537775</td>\n",
              "      <td>11.546752</td>\n",
              "      <td>0.028770</td>\n",
              "      <td>3.003683</td>\n",
              "      <td>0.682721</td>\n",
              "      <td>1.425283</td>\n",
              "      <td>0.496987</td>\n",
              "      <td>0.475775</td>\n",
              "      <td>0.627229</td>\n",
              "      <td>0.190098</td>\n",
              "      <td>35.676218</td>\n",
              "      <td>153.786869</td>\n",
              "      <td>189.463088</td>\n",
              "    </tr>\n",
              "    <tr>\n",
              "      <th>std</th>\n",
              "      <td>5017.0295</td>\n",
              "      <td>1.106918</td>\n",
              "      <td>0.500008</td>\n",
              "      <td>3.438776</td>\n",
              "      <td>6.914405</td>\n",
              "      <td>0.167165</td>\n",
              "      <td>2.005771</td>\n",
              "      <td>0.465431</td>\n",
              "      <td>0.639357</td>\n",
              "      <td>0.192556</td>\n",
              "      <td>0.171850</td>\n",
              "      <td>0.192930</td>\n",
              "      <td>0.122340</td>\n",
              "      <td>49.305030</td>\n",
              "      <td>151.357286</td>\n",
              "      <td>181.387599</td>\n",
              "    </tr>\n",
              "    <tr>\n",
              "      <th>min</th>\n",
              "      <td>1.0000</td>\n",
              "      <td>1.000000</td>\n",
              "      <td>0.000000</td>\n",
              "      <td>1.000000</td>\n",
              "      <td>0.000000</td>\n",
              "      <td>0.000000</td>\n",
              "      <td>0.000000</td>\n",
              "      <td>0.000000</td>\n",
              "      <td>1.000000</td>\n",
              "      <td>0.020000</td>\n",
              "      <td>0.000000</td>\n",
              "      <td>0.000000</td>\n",
              "      <td>0.000000</td>\n",
              "      <td>0.000000</td>\n",
              "      <td>0.000000</td>\n",
              "      <td>1.000000</td>\n",
              "    </tr>\n",
              "    <tr>\n",
              "      <th>25%</th>\n",
              "      <td>4345.5000</td>\n",
              "      <td>2.000000</td>\n",
              "      <td>0.000000</td>\n",
              "      <td>4.000000</td>\n",
              "      <td>6.000000</td>\n",
              "      <td>0.000000</td>\n",
              "      <td>1.000000</td>\n",
              "      <td>0.000000</td>\n",
              "      <td>1.000000</td>\n",
              "      <td>0.340000</td>\n",
              "      <td>0.333300</td>\n",
              "      <td>0.480000</td>\n",
              "      <td>0.104500</td>\n",
              "      <td>4.000000</td>\n",
              "      <td>34.000000</td>\n",
              "      <td>40.000000</td>\n",
              "    </tr>\n",
              "    <tr>\n",
              "      <th>50%</th>\n",
              "      <td>8690.0000</td>\n",
              "      <td>3.000000</td>\n",
              "      <td>1.000000</td>\n",
              "      <td>7.000000</td>\n",
              "      <td>12.000000</td>\n",
              "      <td>0.000000</td>\n",
              "      <td>3.000000</td>\n",
              "      <td>1.000000</td>\n",
              "      <td>1.000000</td>\n",
              "      <td>0.500000</td>\n",
              "      <td>0.484800</td>\n",
              "      <td>0.630000</td>\n",
              "      <td>0.194000</td>\n",
              "      <td>17.000000</td>\n",
              "      <td>115.000000</td>\n",
              "      <td>142.000000</td>\n",
              "    </tr>\n",
              "    <tr>\n",
              "      <th>75%</th>\n",
              "      <td>13034.5000</td>\n",
              "      <td>3.000000</td>\n",
              "      <td>1.000000</td>\n",
              "      <td>10.000000</td>\n",
              "      <td>18.000000</td>\n",
              "      <td>0.000000</td>\n",
              "      <td>5.000000</td>\n",
              "      <td>1.000000</td>\n",
              "      <td>2.000000</td>\n",
              "      <td>0.660000</td>\n",
              "      <td>0.621200</td>\n",
              "      <td>0.780000</td>\n",
              "      <td>0.253700</td>\n",
              "      <td>48.000000</td>\n",
              "      <td>220.000000</td>\n",
              "      <td>281.000000</td>\n",
              "    </tr>\n",
              "    <tr>\n",
              "      <th>max</th>\n",
              "      <td>17379.0000</td>\n",
              "      <td>4.000000</td>\n",
              "      <td>1.000000</td>\n",
              "      <td>12.000000</td>\n",
              "      <td>23.000000</td>\n",
              "      <td>1.000000</td>\n",
              "      <td>6.000000</td>\n",
              "      <td>1.000000</td>\n",
              "      <td>4.000000</td>\n",
              "      <td>1.000000</td>\n",
              "      <td>1.000000</td>\n",
              "      <td>1.000000</td>\n",
              "      <td>0.850700</td>\n",
              "      <td>367.000000</td>\n",
              "      <td>886.000000</td>\n",
              "      <td>977.000000</td>\n",
              "    </tr>\n",
              "  </tbody>\n",
              "</table>\n",
              "</div>"
            ],
            "text/plain": [
              "          instant        season  ...    registered           cnt\n",
              "count  17379.0000  17379.000000  ...  17379.000000  17379.000000\n",
              "mean    8690.0000      2.501640  ...    153.786869    189.463088\n",
              "std     5017.0295      1.106918  ...    151.357286    181.387599\n",
              "min        1.0000      1.000000  ...      0.000000      1.000000\n",
              "25%     4345.5000      2.000000  ...     34.000000     40.000000\n",
              "50%     8690.0000      3.000000  ...    115.000000    142.000000\n",
              "75%    13034.5000      3.000000  ...    220.000000    281.000000\n",
              "max    17379.0000      4.000000  ...    886.000000    977.000000\n",
              "\n",
              "[8 rows x 16 columns]"
            ]
          },
          "metadata": {
            "tags": []
          },
          "execution_count": 3
        }
      ]
    },
    {
      "cell_type": "markdown",
      "metadata": {
        "id": "iy4_UVebh4sc"
      },
      "source": [
        "## Distribuição do atributo cnt:"
      ]
    },
    {
      "cell_type": "code",
      "metadata": {
        "id": "sZiUQTMth6Gx",
        "outputId": "ac0b3462-8ad0-4f97-d2e4-9be0fb648b12",
        "colab": {
          "base_uri": "https://localhost:8080/",
          "height": 387
        }
      },
      "source": [
        "sns.displot(bike_rentals.cnt, kde=True)"
      ],
      "execution_count": null,
      "outputs": [
        {
          "output_type": "execute_result",
          "data": {
            "text/plain": [
              "<seaborn.axisgrid.FacetGrid at 0x7ff74d577b70>"
            ]
          },
          "metadata": {
            "tags": []
          },
          "execution_count": 69
        },
        {
          "output_type": "display_data",
          "data": {
            "image/png": "[encoded data removed]",
            "text/plain": [
              "<Figure size 360x360 with 1 Axes>"
            ]
          },
          "metadata": {
            "tags": []
          }
        }
      ]
    },
    {
      "cell_type": "markdown",
      "metadata": {
        "id": "vZQEXyKB4eVO"
      },
      "source": [
        "A distribuição dos dados dessa coluna está na faixa de 0 a 1000 com uma maior concentração entre as faixas de 0 a 200."
      ]
    },
    {
      "cell_type": "markdown",
      "metadata": {
        "id": "pD5L9Vh5kgTw"
      },
      "source": [
        "## Calculando a correlação entre as variáveis:"
      ]
    },
    {
      "cell_type": "markdown",
      "metadata": {
        "id": "cGgJw1QRk8MX"
      },
      "source": [
        "A intenção e saber o grau de correlação das variáveis com a variável que queremos prever(`cnt`), então podemos simplesmente filtrar a coluna com essas informações."
      ]
    },
    {
      "cell_type": "code",
      "metadata": {
        "id": "mYcT232eksqe",
        "outputId": "d055745d-0e54-43f7-f776-dad9e4368815",
        "colab": {
          "base_uri": "https://localhost:8080/"
        }
      },
      "source": [
        "correlations = bike_rentals.corr()\n",
        "correlations['cnt']"
      ],
      "execution_count": null,
      "outputs": [
        {
          "output_type": "execute_result",
          "data": {
            "text/plain": [
              "instant       0.278379\n",
              "season        0.178056\n",
              "yr            0.250495\n",
              "mnth          0.120638\n",
              "hr            0.394071\n",
              "holiday      -0.030927\n",
              "weekday       0.026900\n",
              "workingday    0.030284\n",
              "weathersit   -0.142426\n",
              "temp          0.404772\n",
              "atemp         0.400929\n",
              "hum          -0.322911\n",
              "windspeed     0.093234\n",
              "casual        0.694564\n",
              "registered    0.972151\n",
              "cnt           1.000000\n",
              "Name: cnt, dtype: float64"
            ]
          },
          "metadata": {
            "tags": []
          },
          "execution_count": 62
        }
      ]
    },
    {
      "cell_type": "markdown",
      "metadata": {
        "id": "rNcKfsXAmQ87"
      },
      "source": [
        "## Excluindo os atributos que são subcategorias do atributo alvo: casual, registered e do tipo date"
      ]
    },
    {
      "cell_type": "markdown",
      "metadata": {
        "id": "gqa73xCmmSCM"
      },
      "source": [
        "Observe que `cnt` já inclui os valores de usuários casuais e registrados, então não faz sentindo manter essas 2 variáveis , pois esses dados são redundantes.\n",
        "\n",
        "Também precisamos excluir a variável `dteday` que é do tipo date, os algoritmos de regressão não aceitam esse tipo de dado, e ela representa apenas a data do evento e não vai contribuir em nada para o modelo.\n",
        "\n",
        "Na variável `columns` iremos guardar as nossas features, então precisamos excluir também a variável target (`cnt`)."
      ]
    },
    {
      "cell_type": "code",
      "metadata": {
        "id": "XOHUWTlFnEUw",
        "outputId": "e14ec06e-54fb-4c35-bfb8-2f4f22527fd9",
        "colab": {
          "base_uri": "https://localhost:8080/"
        }
      },
      "source": [
        "columns = bike_rentals.columns.drop(['cnt', 'casual', 'dteday', 'registered'])\n",
        "columns"
      ],
      "execution_count": null,
      "outputs": [
        {
          "output_type": "execute_result",
          "data": {
            "text/plain": [
              "Index(['instant', 'season', 'yr', 'mnth', 'hr', 'holiday', 'weekday',\n",
              "       'workingday', 'weathersit', 'temp', 'atemp', 'hum', 'windspeed'],\n",
              "      dtype='object')"
            ]
          },
          "metadata": {
            "tags": []
          },
          "execution_count": 21
        }
      ]
    },
    {
      "cell_type": "markdown",
      "metadata": {
        "id": "uxCUyiKDoDbE"
      },
      "source": [
        "## Separando os dados de treino e teste:"
      ]
    },
    {
      "cell_type": "markdown",
      "metadata": {
        "id": "9WqYfJTSoifo"
      },
      "source": [
        "Passamos as features que serão os dados de treino, a variável target e especificamos que 80% desses dados serão usados para treino e 20% para teste."
      ]
    },
    {
      "cell_type": "code",
      "metadata": {
        "id": "0K8sXQ4UoCoU"
      },
      "source": [
        "X_train, X_test, y_train, y_test = train_test_split(bike_rentals[columns],bike_rentals['cnt'], test_size=0.20, random_state=42)"
      ],
      "execution_count": null,
      "outputs": []
    },
    {
      "cell_type": "markdown",
      "metadata": {
        "id": "K5k06UY7opux"
      },
      "source": [
        "Agora vamos começar a testar os nossos modelos, o primeiro deles será o de regressão linear que é o tipo mais básico."
      ]
    },
    {
      "cell_type": "markdown",
      "metadata": {
        "id": "asImbRyA7IV2"
      },
      "source": [
        "# **Regressão Linear**"
      ]
    },
    {
      "cell_type": "markdown",
      "metadata": {
        "id": "amDfhkHloqZx"
      },
      "source": [
        "## Instanciando o algoritmo:"
      ]
    },
    {
      "cell_type": "code",
      "metadata": {
        "id": "qvD-B-FUosUZ"
      },
      "source": [
        "lr = LinearRegression()"
      ],
      "execution_count": null,
      "outputs": []
    },
    {
      "cell_type": "markdown",
      "metadata": {
        "id": "rsfS9WJkouga"
      },
      "source": [
        "## Treinando o algoritmo e gerando o modelo de regressão:"
      ]
    },
    {
      "cell_type": "code",
      "metadata": {
        "id": "t4Kvx4t-ovTy"
      },
      "source": [
        "model = lr.fit(X_train,y_train)\n",
        "\n",
        "resultado = model.predict(X_test)"
      ],
      "execution_count": null,
      "outputs": []
    },
    {
      "cell_type": "markdown",
      "metadata": {
        "id": "xAud4-fho8DE"
      },
      "source": [
        "Entregamos os dados do conjunto de teste para o modelo fazer a predição e guardamos os resultados na variável resultado."
      ]
    },
    {
      "cell_type": "markdown",
      "metadata": {
        "id": "N7gCaPKVo9M0"
      },
      "source": [
        "## Calculando o erro médio quadrático:"
      ]
    },
    {
      "cell_type": "code",
      "metadata": {
        "id": "iSer_gV1o-dU",
        "outputId": "0abcac1a-c50c-4180-a8bc-d5c9eddfa84b",
        "colab": {
          "base_uri": "https://localhost:8080/"
        }
      },
      "source": [
        "mean_squared_error(y_test, resultado)"
      ],
      "execution_count": null,
      "outputs": [
        {
          "output_type": "execute_result",
          "data": {
            "text/plain": [
              "19376.952766955474"
            ]
          },
          "metadata": {
            "tags": []
          },
          "execution_count": 66
        }
      ]
    },
    {
      "cell_type": "markdown",
      "metadata": {
        "id": "OPY0trlNpCx1"
      },
      "source": [
        "O *mean_squared_error* é a diferença média quadrática entre o valor predito e o valor real, quanto menor for esse valor mais próximo o modelo está de acertar."
      ]
    },
    {
      "cell_type": "markdown",
      "metadata": {
        "id": "oBA5ZP1dpEN9"
      },
      "source": [
        "## Computando o Score:"
      ]
    },
    {
      "cell_type": "code",
      "metadata": {
        "id": "qO6eDWYhpDYV",
        "outputId": "3e3ae106-d983-427b-daa8-129b7a3b2cf6",
        "colab": {
          "base_uri": "https://localhost:8080/"
        }
      },
      "source": [
        "model.score(X_test,y_test)"
      ],
      "execution_count": null,
      "outputs": [
        {
          "output_type": "execute_result",
          "data": {
            "text/plain": [
              "0.3880719703569244"
            ]
          },
          "metadata": {
            "tags": []
          },
          "execution_count": 67
        }
      ]
    },
    {
      "cell_type": "markdown",
      "metadata": {
        "id": "Hv6jaJP2pQ_-"
      },
      "source": [
        "O valor dessa métrica varia entre 0 e 1, indicando em percentagem, o quanto o modelo consegue explicar os valores observados. Quanto maior esse valor , mais explicativo é o modelo."
      ]
    },
    {
      "cell_type": "markdown",
      "metadata": {
        "id": "jp0rZx6mpShe"
      },
      "source": [
        "## Comparando os resultados aplicando os dados de treinamento:"
      ]
    },
    {
      "cell_type": "code",
      "metadata": {
        "id": "ZTWsP_zZpVlk",
        "outputId": "319bafc1-1de7-4ee8-b4ae-d4d6facb7c3d",
        "colab": {
          "base_uri": "https://localhost:8080/"
        }
      },
      "source": [
        "resultado_treino = model.predict(X_train)\n",
        "mean_squared_error(y_train, resultado_treino)"
      ],
      "execution_count": null,
      "outputs": [
        {
          "output_type": "execute_result",
          "data": {
            "text/plain": [
              "20292.141009176416"
            ]
          },
          "metadata": {
            "tags": []
          },
          "execution_count": 31
        }
      ]
    },
    {
      "cell_type": "code",
      "metadata": {
        "id": "2WsNEJLhpXQX",
        "outputId": "f4b36572-2617-4c56-ca9d-9be6b1c29662",
        "colab": {
          "base_uri": "https://localhost:8080/"
        }
      },
      "source": [
        "model.score(X_train,y_train)"
      ],
      "execution_count": null,
      "outputs": [
        {
          "output_type": "execute_result",
          "data": {
            "text/plain": [
              "0.3888263676964571"
            ]
          },
          "metadata": {
            "tags": []
          },
          "execution_count": 32
        }
      ]
    },
    {
      "cell_type": "markdown",
      "metadata": {
        "id": "-EZ6W3pQpiMJ"
      },
      "source": [
        "Nesse primeiro modelo temos um erro muito alto e um valor de score muito baixo, esses resultados não são nem um pouco satisfatórios.\n",
        "\n",
        "Um dos motivos é que temos muitos dados binários no conjunto de dados (0 e 1), os modelos de regressão linear tendem a funcionar melhor quando temos dados numéricos contínuos.\n",
        "\n",
        "Os modelos de árvore apresentam melhores resultados, vamos ver a seguir se essa premissa se confirma."
      ]
    },
    {
      "cell_type": "markdown",
      "metadata": {
        "id": "wGHu5FsppjdJ"
      },
      "source": [
        "# Árvore de Decisão"
      ]
    },
    {
      "cell_type": "markdown",
      "metadata": {
        "id": "ya2RPPFKpkED"
      },
      "source": [
        "Vamos fazer os mesmos processos alterando apenas o tipo de modelo."
      ]
    },
    {
      "cell_type": "markdown",
      "metadata": {
        "id": "878t0gWipnMi"
      },
      "source": [
        "## Instanciando o algoritmo:"
      ]
    },
    {
      "cell_type": "code",
      "metadata": {
        "id": "uSq84epjpoli"
      },
      "source": [
        "tree = DecisionTreeRegressor()"
      ],
      "execution_count": null,
      "outputs": []
    },
    {
      "cell_type": "markdown",
      "metadata": {
        "id": "LJcy73YLpqdj"
      },
      "source": [
        "## Treinando o algoritmo e gerando o modelo:"
      ]
    },
    {
      "cell_type": "code",
      "metadata": {
        "id": "zzJI-9Qvpq3y"
      },
      "source": [
        "model_tree = tree.fit(X_train,y_train)\n",
        "resultado_tree = tree.predict(X_test)"
      ],
      "execution_count": null,
      "outputs": []
    },
    {
      "cell_type": "markdown",
      "metadata": {
        "id": "FgoR38Qlptl7"
      },
      "source": [
        "## Calculando o erro médio quadrático:"
      ]
    },
    {
      "cell_type": "code",
      "metadata": {
        "id": "ee2RCSwMpt-T"
      },
      "source": [
        "mean_squared_error(y_test, resultado_tree)"
      ],
      "execution_count": null,
      "outputs": []
    },
    {
      "cell_type": "markdown",
      "metadata": {
        "id": "_jqDcotDpvyT"
      },
      "source": [
        "O valor de erro já diminuiu em comparação com o modelo anterior."
      ]
    },
    {
      "cell_type": "markdown",
      "metadata": {
        "id": "3buffCm_pyVj"
      },
      "source": [
        "## Computando o Score:"
      ]
    },
    {
      "cell_type": "code",
      "metadata": {
        "id": "-b-9vFFqpz_8",
        "outputId": "3474389a-c90f-4850-b85e-5d5dd36f3af1",
        "colab": {
          "base_uri": "https://localhost:8080/"
        }
      },
      "source": [
        "model_tree.score(X_test,y_test)"
      ],
      "execution_count": null,
      "outputs": [
        {
          "output_type": "execute_result",
          "data": {
            "text/plain": [
              "0.8935642077808191"
            ]
          },
          "metadata": {
            "tags": []
          },
          "execution_count": 35
        }
      ]
    },
    {
      "cell_type": "markdown",
      "metadata": {
        "id": "wIO_erxup3Gk"
      },
      "source": [
        "Os resultados são bem melhores e já conseguimos cumprir o objetivo de diminuir o valor do erro e ter um score mais alto e validar a hipótese de que esse tipo de modelo tende a ser superior para o tipo de dado que estamos trabalhando."
      ]
    },
    {
      "cell_type": "markdown",
      "metadata": {
        "id": "7so9Z_sYp3vE"
      },
      "source": [
        "# Random Forest"
      ]
    },
    {
      "cell_type": "markdown",
      "metadata": {
        "id": "Ou_Yy0S6p56E"
      },
      "source": [
        "Apesar dos ótimos resultados que tivemos com a Árvore de Decisão o nosso modelo pode estar sofrendo *overfitting* (sobreajuste).\n",
        "\n",
        "Os modelos *ensembles* como o Random Forest tem a missão de resolver esse tipo de problema e por isso apresentam resultados ainda mais satisfatórios.\n",
        "\n",
        "Seu funcionamento é bem simples, ele usa várias Árvores de Decisão e pega o valor que cada uma das árvores, o resultado final vai ser o valor médio dessas árvores."
      ]
    },
    {
      "cell_type": "markdown",
      "metadata": {
        "id": "jbKBUF2kqCtO"
      },
      "source": [
        "## Instanciando o algoritmo:"
      ]
    },
    {
      "cell_type": "code",
      "metadata": {
        "id": "VVyvCZEvqD9V"
      },
      "source": [
        "tree_rf = RandomForestRegressor()"
      ],
      "execution_count": null,
      "outputs": []
    },
    {
      "cell_type": "markdown",
      "metadata": {
        "id": "Ex4t16BaqF_G"
      },
      "source": [
        "## Treinando o algoritmo e gerando o modelo:"
      ]
    },
    {
      "cell_type": "code",
      "metadata": {
        "id": "shYQ3hrKqGlf"
      },
      "source": [
        "model_rf = tree_rf.fit(X_train, y_train)\n",
        "resultado_rf = model_rf.predict(X_test)"
      ],
      "execution_count": null,
      "outputs": []
    },
    {
      "cell_type": "markdown",
      "metadata": {
        "id": "QI5XD_PaqIIv"
      },
      "source": [
        "## Calculando o erro médio quadrático:"
      ]
    },
    {
      "cell_type": "code",
      "metadata": {
        "id": "VLwqAL1mqL1H",
        "outputId": "60027cbd-64a4-4a06-9282-63986ac49095",
        "colab": {
          "base_uri": "https://localhost:8080/"
        }
      },
      "source": [
        "mean_squared_error(y_test, resultado_rf)"
      ],
      "execution_count": null,
      "outputs": [
        {
          "output_type": "execute_result",
          "data": {
            "text/plain": [
              "1633.2349533659378"
            ]
          },
          "metadata": {
            "tags": []
          },
          "execution_count": 38
        }
      ]
    },
    {
      "cell_type": "markdown",
      "metadata": {
        "id": "NlXxUSN4qOiw"
      },
      "source": [
        "## Computando o Score:"
      ]
    },
    {
      "cell_type": "code",
      "metadata": {
        "id": "sBz-wTg4qOMX",
        "outputId": "9e980eec-5bdd-4282-d320-dab5715f53e8",
        "colab": {
          "base_uri": "https://localhost:8080/"
        }
      },
      "source": [
        "model_rf.score(X_test,y_test)"
      ],
      "execution_count": null,
      "outputs": [
        {
          "output_type": "execute_result",
          "data": {
            "text/plain": [
              "0.9484221147165212"
            ]
          },
          "metadata": {
            "tags": []
          },
          "execution_count": 39
        }
      ]
    },
    {
      "cell_type": "markdown",
      "metadata": {
        "id": "HCK2LGpEqUAq"
      },
      "source": [
        "Excelente não acha? Como já esperávamos os resultados são ainda mais surpreendentes."
      ]
    },
    {
      "cell_type": "markdown",
      "metadata": {
        "id": "SyczgrLEqprM"
      },
      "source": [
        "## Ajustando os hiperparametros do Random Forest:"
      ]
    },
    {
      "cell_type": "markdown",
      "metadata": {
        "id": "n6Ozg18LrE8X"
      },
      "source": [
        "Todos os modelos testados até o momento foram instanciados na sua forma mais básica sem nenhum ajuste de parâmetro.\n",
        "\n",
        "Já temos o modelo que apresenta os melhores resultados e agora a meta e tentar encontrar os melhores parâmetros."
      ]
    },
    {
      "cell_type": "markdown",
      "metadata": {
        "id": "IjwAyH0srKOA"
      },
      "source": [
        "## Especificando os parâmetros de tunning:"
      ]
    },
    {
      "cell_type": "code",
      "metadata": {
        "id": "VaiLx3s-rL6I"
      },
      "source": [
        "parametros = {'min_samples_leaf':[1,10],'min_samples_split':[2,10],'n_estimators':[100,250,500,750]}"
      ],
      "execution_count": null,
      "outputs": []
    },
    {
      "cell_type": "markdown",
      "metadata": {
        "id": "9GNI7AdlrUoy"
      },
      "source": [
        "O **min_samples_leaf** é o número mínimo de amostras necessárias para estar em um nó folha.\n",
        "\n",
        "O **min_samples_split** é o número mínimo de amostras necessárias para dividir um nó interno.\n",
        "\n",
        "E o **n_estimators** é o número de árvores que será gerada."
      ]
    },
    {
      "cell_type": "markdown",
      "metadata": {
        "id": "nx-KP3mSrqVd"
      },
      "source": [
        "## Instanciando o RandomForest e GridSearch:"
      ]
    },
    {
      "cell_type": "code",
      "metadata": {
        "id": "6MtZ4O8YrrS9"
      },
      "source": [
        "rf = RandomForestRegressor()\n",
        "grid = GridSearchCV(rf, parametros)"
      ],
      "execution_count": null,
      "outputs": []
    },
    {
      "cell_type": "markdown",
      "metadata": {
        "id": "_iF8pZPdrsXN"
      },
      "source": [
        "Para o grid passamos o modelo e os parâmetros que definimos para que ele faça os testes exaustivos."
      ]
    },
    {
      "cell_type": "markdown",
      "metadata": {
        "id": "rLQknvGLrtku"
      },
      "source": [
        "## Executando o grid:"
      ]
    },
    {
      "cell_type": "code",
      "metadata": {
        "id": "LnFQGZ7brust",
        "outputId": "cf96e2d3-55c5-43dc-80a6-7c200ee9916f",
        "colab": {
          "base_uri": "https://localhost:8080/"
        }
      },
      "source": [
        "grid.fit(X_train, y_train)"
      ],
      "execution_count": null,
      "outputs": [
        {
          "output_type": "execute_result",
          "data": {
            "text/plain": [
              "GridSearchCV(cv=None, error_score=nan,\n",
              "             estimator=RandomForestRegressor(bootstrap=True, ccp_alpha=0.0,\n",
              "                                             criterion='mse', max_depth=None,\n",
              "                                             max_features='auto',\n",
              "                                             max_leaf_nodes=None,\n",
              "                                             max_samples=None,\n",
              "                                             min_impurity_decrease=0.0,\n",
              "                                             min_impurity_split=None,\n",
              "                                             min_samples_leaf=1,\n",
              "                                             min_samples_split=2,\n",
              "                                             min_weight_fraction_leaf=0.0,\n",
              "                                             n_estimators=100, n_jobs=None,\n",
              "                                             oob_score=False, random_state=None,\n",
              "                                             verbose=0, warm_start=False),\n",
              "             iid='deprecated', n_jobs=None,\n",
              "             param_grid={'min_samples_leaf': [1, 10],\n",
              "                         'min_samples_split': [2, 10],\n",
              "                         'n_estimators': [100, 250, 500, 750]},\n",
              "             pre_dispatch='2*n_jobs', refit=True, return_train_score=False,\n",
              "             scoring=None, verbose=0)"
            ]
          },
          "metadata": {
            "tags": []
          },
          "execution_count": 44
        }
      ]
    },
    {
      "cell_type": "markdown",
      "metadata": {
        "id": "v53dUWfQr3t2"
      },
      "source": [
        "## Verificando os melhores parâmetros:"
      ]
    },
    {
      "cell_type": "code",
      "metadata": {
        "id": "upJsiK6wr4ge",
        "outputId": "f248814f-8064-42a2-b6b1-150059b16a45",
        "colab": {
          "base_uri": "https://localhost:8080/"
        }
      },
      "source": [
        "grid.best_params_"
      ],
      "execution_count": null,
      "outputs": [
        {
          "output_type": "execute_result",
          "data": {
            "text/plain": [
              "{'min_samples_leaf': 1, 'min_samples_split': 2, 'n_estimators': 750}"
            ]
          },
          "metadata": {
            "tags": []
          },
          "execution_count": 45
        }
      ]
    },
    {
      "cell_type": "markdown",
      "metadata": {
        "id": "DLbTunq2r6yf"
      },
      "source": [
        "Essa é a melhor configuração que ele encontrou."
      ]
    },
    {
      "cell_type": "markdown",
      "metadata": {
        "id": "5er3_CZzr71v"
      },
      "source": [
        "## Recuperando o melhor estimator:"
      ]
    },
    {
      "cell_type": "code",
      "metadata": {
        "id": "fsNV-4far-T3"
      },
      "source": [
        "rf_best = grid.best_estimator_"
      ],
      "execution_count": null,
      "outputs": []
    },
    {
      "cell_type": "markdown",
      "metadata": {
        "id": "9apHsyuzsBHo"
      },
      "source": [
        "## Gerando o resultado final:"
      ]
    },
    {
      "cell_type": "code",
      "metadata": {
        "id": "zjX9jgPCsCAw"
      },
      "source": [
        "resultado_final = rf_best.predict(X_test)"
      ],
      "execution_count": null,
      "outputs": []
    },
    {
      "cell_type": "markdown",
      "metadata": {
        "id": "7TGzaa-RsEiY"
      },
      "source": [
        "Utilizamos os melhores parâmetros encontrados para fazer a predição."
      ]
    },
    {
      "cell_type": "markdown",
      "metadata": {
        "id": "x1NRtM51sFRg"
      },
      "source": [
        "## Calculando o erro médio quadrático:"
      ]
    },
    {
      "cell_type": "code",
      "metadata": {
        "id": "1lQ0VF5AsGfB",
        "outputId": "e6a07709-aa26-4204-cc6b-c24b9b2c718e",
        "colab": {
          "base_uri": "https://localhost:8080/"
        }
      },
      "source": [
        "mean_squared_error(y_test, resultado_final)"
      ],
      "execution_count": null,
      "outputs": [
        {
          "output_type": "execute_result",
          "data": {
            "text/plain": [
              "1630.7031259966755"
            ]
          },
          "metadata": {
            "tags": []
          },
          "execution_count": 50
        }
      ]
    },
    {
      "cell_type": "markdown",
      "metadata": {
        "id": "y_bd4kSLsLcB"
      },
      "source": [
        "O erro foi ainda menor que o anterior que era de aproximadamente 1680."
      ]
    },
    {
      "cell_type": "markdown",
      "metadata": {
        "id": "U3O-IupFsMYB"
      },
      "source": [
        "## Computando o Score:"
      ]
    },
    {
      "cell_type": "code",
      "metadata": {
        "id": "-rqmIdQssOVq",
        "outputId": "a82c46ec-594f-4c62-b004-3c58f3e23133",
        "colab": {
          "base_uri": "https://localhost:8080/"
        }
      },
      "source": [
        "rf_best.score(X_test,y_test)"
      ],
      "execution_count": null,
      "outputs": [
        {
          "output_type": "execute_result",
          "data": {
            "text/plain": [
              "0.9485020703293618"
            ]
          },
          "metadata": {
            "tags": []
          },
          "execution_count": 51
        }
      ]
    },
    {
      "cell_type": "markdown",
      "metadata": {
        "id": "0zDx1pHYsQab"
      },
      "source": [
        "Esse é o score do nosso modelo final, uma grande evolução nos resultados."
      ]
    }
  ]
}